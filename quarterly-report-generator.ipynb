{
 "cells": [
  {
   "cell_type": "code",
   "execution_count": 37,
   "metadata": {},
   "outputs": [
    {
     "name": "stdout",
     "output_type": "stream",
     "text": [
      "Quarterly Sales Report\n",
      "\n",
      "London    L3:    $371.3333333333333   $1114\n",
      "Paris     P2:    $273.3333333333333   $820\n",
      "New York  N6:    $463.3333333333333   $1390\n",
      "Beijing   B8:    $446.6666666666667   $1340\n",
      "\n",
      "April18     :    $392.5   $1570\n",
      "May18       :    $401.25   $1605\n",
      "June18      :    $372.25   $1489\n",
      "\n",
      "Total: $4664\n"
     ]
    }
   ],
   "source": [
    "quarterlyData = [[390, 345, 379], #London\n",
    "                [250, 270, 300],  #Paris\n",
    "                [460, 480, 450],  #New York\n",
    "                [470, 510, 360]]  #Beijing\n",
    "\n",
    "#Calculates total sales of a city per quarter\n",
    "def cityTotal(row):\n",
    "    total = 0\n",
    "    for i in quarterlyData[row]:\n",
    "        total = total + i\n",
    "    return total\n",
    "\n",
    "#Calculates total sales per month \n",
    "def monthlyTotal(column):\n",
    "    total = 0\n",
    "    for i in range(len(quarterlyData)):\n",
    "        total = quarterlyData[i][column] + total\n",
    "    return total\n",
    "\n",
    "#Calculates total sales per quarter\n",
    "def quarterlyTotal():\n",
    "    total = 0\n",
    "    for i in range(len(quarterlyData)):\n",
    "        for j in range(len(quarterlyData[i])):\n",
    "            total = quarterlyData[i][j] + total\n",
    "    return total\n",
    "                        \n",
    "#Calculates average sales of a city per quarter\n",
    "def average(row):\n",
    "    average = cityTotal(row) / len(quarterlyData[row])\n",
    "    return average\n",
    "\n",
    "#Calculates average monthly sales\n",
    "def monthlyAverage(row):\n",
    "    average = monthlyTotal(row) / len(quarterlyData)\n",
    "    return average\n",
    "\n",
    "#Displays quarterly report for each city\n",
    "print(\"Quarterly Sales Report\")\n",
    "print()\n",
    "print(f\"London    L3:    ${average(0)}   ${cityTotal(0)}\")\n",
    "print(f\"Paris     P2:    ${average(1)}   ${cityTotal(1)}\")\n",
    "print(f\"New York  N6:    ${average(2)}   ${cityTotal(2)}\")\n",
    "print(f\"Beijing   B8:    ${average(3)}   ${cityTotal(3)}\")\n",
    "print()\n",
    "print(f\"April18     :    ${monthlyAverage(0)}   ${monthlyTotal(0)}\")\n",
    "print(f\"May18       :    ${monthlyAverage(1)}   ${monthlyTotal(1)}\")\n",
    "print(f\"June18      :    ${monthlyAverage(2)}   ${monthlyTotal(2)}\")\n",
    "print()\n",
    "print(f\"Total: ${quarterlyTotal()}\")\n",
    "\n"
   ]
  },
  {
   "cell_type": "code",
   "execution_count": null,
   "metadata": {},
   "outputs": [],
   "source": []
  },
  {
   "cell_type": "code",
   "execution_count": null,
   "metadata": {},
   "outputs": [],
   "source": []
  }
 ],
 "metadata": {
  "kernelspec": {
   "display_name": "Python 3",
   "language": "python",
   "name": "python3"
  },
  "language_info": {
   "codemirror_mode": {
    "name": "ipython",
    "version": 3
   },
   "file_extension": ".py",
   "mimetype": "text/x-python",
   "name": "python",
   "nbconvert_exporter": "python",
   "pygments_lexer": "ipython3",
   "version": "3.8.3"
  }
 },
 "nbformat": 4,
 "nbformat_minor": 4
}
